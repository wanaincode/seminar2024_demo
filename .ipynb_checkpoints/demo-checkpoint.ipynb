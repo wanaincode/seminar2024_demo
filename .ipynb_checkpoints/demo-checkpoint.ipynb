{
 "cells": [
  {
   "cell_type": "code",
   "execution_count": null,
   "metadata": {},
   "outputs": [],
   "source": [
    "import numpy as np\n",
    "import matplotlib.pyplot as plt\n",
    "from scipy.ndimage import gaussian_filter\n",
    "\n",
    "# 設定影像尺寸\n",
    "image_size = (100, 100)\n",
    "image = np.zeros(image_size)\n",
    "\n",
    "# 建立一個中央亮點\n",
    "image[50, 50] = 1\n",
    "\n",
    "# 設定PSF (Point Spread Function)\n",
    "sigma = 3  # 高斯分布的標準差，值越小越窄\n",
    "\n",
    "# 使用scipy的高斯濾波模擬PSF卷積\n",
    "convolved_image = gaussian_filter(image, sigma=sigma)\n",
    "\n",
    "# 顯示結果\n",
    "fig, ax = plt.subplots(1, 2, figsize=(12, 6))\n",
    "ax[0].imshow(image, cmap='gray')\n",
    "ax[0].set_title('原始影像')\n",
    "ax[0].axis('off')\n",
    "\n",
    "ax[1].imshow(convolved_image, cmap='gray')\n",
    "ax[1].set_title('經過PSF卷積的影像')\n",
    "ax[1].axis('off')\n",
    "\n",
    "plt.show()"
   ]
  }
 ],
 "metadata": {
  "language_info": {
   "name": "python"
  }
 },
 "nbformat": 4,
 "nbformat_minor": 2
}
