{
 "cells": [
  {
   "cell_type": "code",
   "execution_count": 2,
   "metadata": {},
   "outputs": [],
   "source": [
    "# rewrite 'comp_deconv.m'\n",
    "import numpy as np\n",
    "import pandas as pd\n",
    "import os\n",
    "from scipy.special import erfc\n",
    "from scipy.interpolate import CubicSpline\n",
    "\n",
    "# set output file\n",
    "savedir = './images/comp_deconv/'\n",
    "os.makedirs(savedir, exist_ok=True)\n",
    "\n",
    "# read file\n",
    "IMPR = pd.read_excel('./data/TES_detector_response_function_Fe_num0079_200804.xlsx', header=None).to_numpy()\n",
    "IMPR[:, 1] = IMPR[:, 1] * 200\n",
    "TES_2D = pd.read_excel('./data/CeO2_TES_2D_XES_4700_4900eV_190710_220211_cor.xlsx', sheet_name='2D_XES_TES_spectrum_XY_conv', header=None).to_numpy()\n",
    "TES_2D = TES_2D.T\n",
    "TES_in = pd.read_excel('./data/CeO2_TES_2D_XES_4700_4900eV_190710_220211_cor.xlsx', sheet_name='incident_x-ray_energy_eV', header=None).to_numpy()\n",
    "TES_em = pd.read_excel('./data/CeO2_TES_2D_XES_4700_4900eV_190710_220211_cor.xlsx', sheet_name='emission_X-ray_energy_eV', header=None).to_numpy()\n",
    "\n",
    "XES_2D = pd.read_excel('./data/CeO2_Analyzer_BL39XU_2D_XES.xlsx', sheet_name='2D_XES_analyzer_BL39XU', header=None).to_numpy()\n",
    "XES_2D = XES_2D.T\n",
    "XES_in = pd.read_excel('./data/CeO2_Analyzer_BL39XU_2D_XES.xlsx', sheet_name='incident_X-ray_energy_analyzer', header=None).to_numpy()[::-1]\n",
    "XES_em = pd.read_excel('./data/CeO2_Analyzer_BL39XU_2D_XES.xlsx', sheet_name='emission_X-ray_energy_analyzer', header=None).to_numpy()\n",
    "\n",
    "# initialize\n",
    "ana_x_array = XES_em.flatten()\n",
    "ana_y_array = XES_in.flatten()\n",
    "d_y = np.diff(ana_y_array, prepend=ana_y_array[0], append=ana_y_array[-1])\n",
    "\n",
    "tes_x_array = np.arange(XES_em[0, 0], XES_em[-1, 0] + 1)\n",
    "tes_y_array = XES_in.flatten()\n",
    "\n",
    "sz_x = len(XES_em)\n",
    "sz_y = len(XES_in)\n",
    "NN = len(tes_x_array)\n",
    "LL = len(tes_y_array)\n",
    "\n",
    "G_i = np.zeros((sz_y, LL))\n",
    "\n",
    "# ガウス関数の畳み込み行列\n",
    "sigma = 2 / 2.35  # 半値幅2eV\n",
    "G_i[0, :] = erfc(-(tes_y_array - ana_y_array[0]) / (np.sqrt(2) * sigma)) - erfc(\n",
    "    -(tes_y_array - ana_y_array[0] - d_y[0] / 2) / (np.sqrt(2) * sigma)\n",
    ")\n",
    "for k in range(1, sz_y):\n",
    "    G_i[k, :] = erfc(-(tes_y_array - ana_y_array[k] + d_y[k - 1] / 2) / (np.sqrt(2) * sigma)) - erfc(\n",
    "        -(tes_y_array - ana_y_array[k] - d_y[k] / 2) / (np.sqrt(2) * sigma)\n",
    "    )\n",
    "\n",
    "G_f = np.zeros((sz_x, NN))\n",
    "\n",
    "# 装置関数の畳み込み行列\n",
    "for k in range(sz_x):\n",
    "    pt = ana_x_array[k]\n",
    "    cs = CubicSpline(IMPR[:, 0], IMPR[:, 1])\n",
    "    G_f[k, :] = np.maximum(cs(tes_x_array - pt), 0)\n",
    "\n",
    "# flattern\n",
    "XES_2D_vec = XES_2D.flatten()\n",
    "K = np.kron(G_f.T, G_i.T)\n",
    "Y_vec = np.dot(K, XES_2D_vec)\n",
    "YY = Y_vec.reshape((LL, NN))\n",
    "\n",
    "# ノイズ付加\n",
    "YY_noise = YY + np.sqrt(np.abs(YY)) * np.random.randn(*YY.shape)\n",
    "np.savetxt(os.path.join(savedir, \"conv_noise_2eV.csv\"), YY_noise, delimiter=',')\n"
   ]
  },
  {
   "cell_type": "code",
   "execution_count": 3,
   "metadata": {},
   "outputs": [
    {
     "name": "stdout",
     "output_type": "stream",
     "text": [
      "length of XES_em: 226\n",
      "length of XES_in: 73\n",
      "length of tes_x_array: 46\n",
      "length of tes_y_array: 73\n"
     ]
    }
   ],
   "source": [
    "print(f\"length of XES_em: {sz_x}\")\n",
    "print(f\"length of XES_in: {sz_y}\")\n",
    "print(f\"length of tes_x_array: {NN}\")\n",
    "print(f\"length of tes_y_array: {LL}\")"
   ]
  },
  {
   "cell_type": "code",
   "execution_count": 5,
   "metadata": {},
   "outputs": [
    {
     "data": {
      "text/plain": [
       "array([[0.00000000e+00, 0.00000000e+00, 0.00000000e+00, ...,\n",
       "        0.00000000e+00, 0.00000000e+00, 0.00000000e+00],\n",
       "       [4.22843348e-09, 9.96691298e-01, 3.30869749e-03, ...,\n",
       "        0.00000000e+00, 0.00000000e+00, 0.00000000e+00],\n",
       "       [1.22385385e-18, 3.30870172e-03, 1.99338260e+00, ...,\n",
       "        0.00000000e+00, 0.00000000e+00, 0.00000000e+00],\n",
       "       ...,\n",
       "       [0.00000000e+00, 0.00000000e+00, 0.00000000e+00, ...,\n",
       "        1.99338260e+00, 3.30870172e-03, 0.00000000e+00],\n",
       "       [0.00000000e+00, 0.00000000e+00, 0.00000000e+00, ...,\n",
       "        3.30870172e-03, 1.99338260e+00, 3.30870172e-03],\n",
       "       [0.00000000e+00, 0.00000000e+00, 0.00000000e+00, ...,\n",
       "        1.22385385e-18, 3.30870172e-03, 1.99338260e+00]])"
      ]
     },
     "execution_count": 5,
     "metadata": {},
     "output_type": "execute_result"
    }
   ],
   "source": [
    "G_i"
   ]
  }
 ],
 "metadata": {
  "kernelspec": {
   "display_name": "Python 3",
   "language": "python",
   "name": "python3"
  },
  "language_info": {
   "codemirror_mode": {
    "name": "ipython",
    "version": 3
   },
   "file_extension": ".py",
   "mimetype": "text/x-python",
   "name": "python",
   "nbconvert_exporter": "python",
   "pygments_lexer": "ipython3",
   "version": "3.9.6"
  }
 },
 "nbformat": 4,
 "nbformat_minor": 2
}
