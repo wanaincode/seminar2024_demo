{
 "cells": [
  {
   "cell_type": "code",
   "execution_count": 1,
   "metadata": {},
   "outputs": [],
   "source": [
    "import numpy as np\n",
    "\n",
    "def _convolve2d(image, kernel):\n",
    "  shape = (image.shape[0] - kernel.shape[0] + 1, image.shape[1] - kernel.shape[1] + 1) + kernel.shape\n",
    "  strides = image.strides * 2\n",
    "  strided_image = np.lib.stride_tricks.as_strided(image, shape, strides)\n",
    "  return np.einsum('kl,ijkl->ij', kernel, strided_image)\n",
    "\n",
    "def _convolve2d_multichannel(image, kernel):\n",
    "  convolved_image = np.empty((image.shape[0] - kernel.shape[0] + 1, image.shape[1] - kernel.shape[1] + 1, image.shape[2]))\n",
    "  for i in range(image.shape[2]):\n",
    "    convolved_image[:,:,i] = _convolve2d(image[:,:,i], kernel)\n",
    "  return convolved_image\n",
    "\n",
    "def _pad_singlechannel_image(image, kernel_shape, boundary):\n",
    "  return np.pad(image, ((int(kernel_shape[0] / 2),), (int(kernel_shape[1] / 2),)), boundary)\n",
    "\n",
    "def _pad_multichannel_image(image, kernel_shape, boundary):\n",
    "  return  np.pad(image, ((int(kernel_shape[0] / 2),), (int(kernel_shape[1] / 2),), (0,)), boundary)\n",
    "\n",
    "def convolve2d(image, kernel, boundary='edge'):\n",
    "  if image.ndim == 2:\n",
    "    pad_image = _pad_singlechannel_image(image, kernel.shape, boundary) if boundary is not None else image\n",
    "    return _convolve2d(pad_image, kernel)\n",
    "  elif image.ndim == 3:\n",
    "    pad_image = _pad_multichannel_image(image, kernel.shape, boundary) if boundary is not None else image\n",
    "    return _convolve2d_multichannel(pad_image, kernel)\n"
   ]
  },
  {
   "cell_type": "code",
   "execution_count": null,
   "metadata": {},
   "outputs": [],
   "source": []
  }
 ],
 "metadata": {
  "kernelspec": {
   "display_name": "Python 3",
   "language": "python",
   "name": "python3"
  },
  "language_info": {
   "codemirror_mode": {
    "name": "ipython",
    "version": 3
   },
   "file_extension": ".py",
   "mimetype": "text/x-python",
   "name": "python",
   "nbconvert_exporter": "python",
   "pygments_lexer": "ipython3",
   "version": "3.9.6"
  }
 },
 "nbformat": 4,
 "nbformat_minor": 4
}
