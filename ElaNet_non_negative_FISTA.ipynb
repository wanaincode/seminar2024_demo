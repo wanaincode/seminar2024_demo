{
 "cells": [
  {
   "cell_type": "markdown",
   "metadata": {},
   "source": [
    "# `ElaNet_non_negative_FISTA.m` \n",
    "このドキュメントでは、MATLABで実装された `ElaNet_non_negative_FISTA.m` をPythonに移植します。"
   ]
  },
  {
   "cell_type": "code",
   "execution_count": 1,
   "metadata": {},
   "outputs": [],
   "source": [
    "import numpy as np\n",
    "\n",
    "def soft_th_non_negative(gamma, vec):\n",
    "    \"\"\"\n",
    "    if vec > gamma, return vec - gamma\n",
    "    else return 0\n",
    "    \"\"\"\n",
    "    return np.maximum(vec - gamma, 0)\n",
    "\n",
    "\n",
    "def ElaNet_non_negative_FISTA(PHI, yy, lambda1, lambda2, gamma, max_ita):\n",
    "    sz1, sz2 = PHI.shape\n",
    "    xx = np.zeros(sz1)\n",
    "    zz = np.zeros(sz2)\n",
    "    tt = 0\n",
    "    kk = 0\n",
    "    error = np.zeros(max_ita)\n",
    "    while kk < max_ita:\n",
    "        kk += 1\n",
    "        \n",
    "        \"\"\"\n",
    "        zz - gamma * (PHI @ zz - yy) : gradient of the loss function\n",
    "        gamma * lambda1 : L1 regularization\n",
    "        \"\"\"\n",
    "        xxx = soft_th_non_negative(\n",
    "            gamma * lambda1, zz - gamma * (PHI @ zz - yy)\n",
    "        ) / (1 + gamma * lambda2)\n",
    "\n",
    "        ttt = (1 + np.sqrt(1 + 4 * tt**2)) / 2\n",
    "\n",
    "        zz = xxx + (tt - 1) / ttt * (xxx - xx)\n",
    "\n",
    "        error[kk - 1] = np.sum(np.abs(xx - xxx))\n",
    "        epsilon = 1e-4\n",
    "\n",
    "        if kk > 10 and error[kk - 1] != 0:\n",
    "            if error[kk - 1] < epsilon:\n",
    "                print(f\"Loop has stopped at {kk} iteration\")\n",
    "                break\n",
    "\n",
    "        xx = xxx\n",
    "        tt = ttt\n",
    "\n",
    "    return xx\n"
   ]
  }
 ],
 "metadata": {
  "kernelspec": {
   "display_name": "Python 3",
   "language": "python",
   "name": "python3"
  },
  "language_info": {
   "codemirror_mode": {
    "name": "ipython",
    "version": 3
   },
   "file_extension": ".py",
   "mimetype": "text/x-python",
   "name": "python",
   "nbconvert_exporter": "python",
   "pygments_lexer": "ipython3",
   "version": "3.6.8"
  }
 },
 "nbformat": 4,
 "nbformat_minor": 2
}
